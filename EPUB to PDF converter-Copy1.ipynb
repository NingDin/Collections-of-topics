{
 "cells": [
  {
   "cell_type": "markdown",
   "id": "8b681dc2",
   "metadata": {},
   "source": [
    "\n",
    "To convert an EPUB file to a PDF file and save it to the desktop using Python, you can utilize the epublib and pdfkit libraries. Before proceeding, make sure you have these libraries installed in your Python environment. You can install them using the pip package manager by running pip install epublib pdfkit."
   ]
  },
  {
   "cell_type": "code",
   "execution_count": null,
   "id": "bdf168fa",
   "metadata": {},
   "outputs": [],
   "source": [
    "import os\n",
    "import pdfkit\n",
    "from epublib import EPub\n",
    "\n",
    "def epub_to_pdf(epub_path, output_path):\n",
    "    # Create a temporary HTML file path\n",
    "    temp_html_path = os.path.join(os.path.dirname(output_path), 'temp.html')\n",
    "\n",
    "    # Load the EPUB file\n",
    "    epub = EPub()\n",
    "    epub.open(epub_path)\n",
    "\n",
    "    # Convert EPUB to HTML\n",
    "    epub.convert(temp_html_path)\n",
    "\n",
    "    # Convert HTML to PDF using pdfkit\n",
    "    pdfkit.from_file(temp_html_path, output_path)\n",
    "\n",
    "    # Remove the temporary HTML file\n",
    "    os.remove(temp_html_path)\n",
    "\n",
    "# Set the paths for the EPUB and PDF files\n",
    "epub_file_path = 'path_to_epub_file.epub'\n",
    "pdf_file_path = os.path.expanduser('~/Desktop/converted_file.pdf')\n",
    "\n",
    "# Convert EPUB to PDF\n",
    "epub_to_pdf(epub_file_path, pdf_file_path)\n"
   ]
  },
  {
   "cell_type": "markdown",
   "id": "e185e12b",
   "metadata": {},
   "source": [
    "Make sure to replace 'path_to_epub_file.epub' with the actual path to your EPUB file. The converted PDF file will be saved on your desktop with the name 'converted_file.pdf'.\n",
    "\n",
    "Please note that the pdfkit library uses an external command-line tool called wkhtmltopdf to perform the HTML-to-PDF conversion. Make sure you have wkhtmltopdf installed on your system and accessible in the command line environment. You can download it from the official website: https://wkhtmltopdf.org/"
   ]
  },
  {
   "cell_type": "code",
   "execution_count": null,
   "id": "bf43db8d",
   "metadata": {},
   "outputs": [],
   "source": []
  }
 ],
 "metadata": {
  "kernelspec": {
   "display_name": "Python 3 (ipykernel)",
   "language": "python",
   "name": "python3"
  },
  "language_info": {
   "codemirror_mode": {
    "name": "ipython",
    "version": 3
   },
   "file_extension": ".py",
   "mimetype": "text/x-python",
   "name": "python",
   "nbconvert_exporter": "python",
   "pygments_lexer": "ipython3",
   "version": "3.9.12"
  }
 },
 "nbformat": 4,
 "nbformat_minor": 5
}
