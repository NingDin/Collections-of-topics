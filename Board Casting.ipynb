{
 "cells": [
  {
   "cell_type": "code",
   "execution_count": 1,
   "id": "a4719ea2",
   "metadata": {},
   "outputs": [],
   "source": [
    "import numpy as np\n"
   ]
  },
  {
   "cell_type": "code",
   "execution_count": 2,
   "id": "d307c0b9",
   "metadata": {},
   "outputs": [],
   "source": [
    "x=np.array([[0],[1],[2]])\n",
    "y=np.array([[3,4,5]])"
   ]
  },
  {
   "cell_type": "code",
   "execution_count": 3,
   "id": "0e72ae37",
   "metadata": {},
   "outputs": [
    {
     "name": "stdout",
     "output_type": "stream",
     "text": [
      "[[0]\n",
      " [1]\n",
      " [2]]\n"
     ]
    }
   ],
   "source": [
    "print(x)"
   ]
  },
  {
   "cell_type": "code",
   "execution_count": 4,
   "id": "420bcf83",
   "metadata": {},
   "outputs": [
    {
     "name": "stdout",
     "output_type": "stream",
     "text": [
      "[[3 4 5]]\n"
     ]
    }
   ],
   "source": [
    "print(y)"
   ]
  },
  {
   "cell_type": "code",
   "execution_count": 5,
   "id": "c51b3dbc",
   "metadata": {},
   "outputs": [
    {
     "data": {
      "text/plain": [
       "array([[3, 4, 5],\n",
       "       [4, 5, 6],\n",
       "       [5, 6, 7]])"
      ]
     },
     "execution_count": 5,
     "metadata": {},
     "output_type": "execute_result"
    }
   ],
   "source": [
    "x+y"
   ]
  },
  {
   "cell_type": "code",
   "execution_count": 6,
   "id": "ad08e311",
   "metadata": {},
   "outputs": [
    {
     "data": {
      "text/plain": [
       "(3, 1)"
      ]
     },
     "execution_count": 6,
     "metadata": {},
     "output_type": "execute_result"
    }
   ],
   "source": [
    "x.shape"
   ]
  },
  {
   "cell_type": "code",
   "execution_count": 7,
   "id": "0b421019",
   "metadata": {
    "scrolled": true
   },
   "outputs": [
    {
     "data": {
      "text/plain": [
       "(1, 3)"
      ]
     },
     "execution_count": 7,
     "metadata": {},
     "output_type": "execute_result"
    }
   ],
   "source": [
    "y.shape"
   ]
  },
  {
   "cell_type": "code",
   "execution_count": 15,
   "id": "5157f8d5",
   "metadata": {},
   "outputs": [
    {
     "data": {
      "text/plain": [
       "(3, 3)"
      ]
     },
     "execution_count": 15,
     "metadata": {},
     "output_type": "execute_result"
    }
   ],
   "source": [
    "(x*y).shape"
   ]
  },
  {
   "cell_type": "code",
   "execution_count": 17,
   "id": "2456db4b",
   "metadata": {},
   "outputs": [
    {
     "data": {
      "text/plain": [
       "array([[ 0,  0,  0],\n",
       "       [ 3,  4,  5],\n",
       "       [ 6,  8, 10]])"
      ]
     },
     "execution_count": 17,
     "metadata": {},
     "output_type": "execute_result"
    }
   ],
   "source": [
    "x*y"
   ]
  },
  {
   "cell_type": "code",
   "execution_count": 16,
   "id": "33c8c563",
   "metadata": {},
   "outputs": [
    {
     "name": "stdout",
     "output_type": "stream",
     "text": [
      "[[ 0  0  0]\n",
      " [ 3  4  5]\n",
      " [ 6  8 10]]\n"
     ]
    }
   ],
   "source": [
    "# to simulate this operation\n",
    "shappe=(3,3)\n",
    "out=np.empty(shappe,dtype=int)\n",
    "N0,N1=shappe\n",
    "for i in range(N0): # operate from higher level and loop in lower level # like all data structure fuctioned\n",
    "    for j in range(N1):\n",
    "        # the demension y just have one element we replace 1 to zero; or any 1 in demension from shape to zero in loop\n",
    "        out[i,j]=x[i,0]*y[0,j]\n",
    "print(out)"
   ]
  },
  {
   "cell_type": "code",
   "execution_count": 9,
   "id": "fe289bfb",
   "metadata": {},
   "outputs": [
    {
     "data": {
      "text/plain": [
       "(3,)"
      ]
     },
     "execution_count": 9,
     "metadata": {},
     "output_type": "execute_result"
    }
   ],
   "source": [
    "z=np.array([1,2,3])\n",
    "z.shape ## we miss one [] we can append 1 as (1,3,) or (1,3) append has to be ahead of the array "
   ]
  },
  {
   "cell_type": "code",
   "execution_count": 10,
   "id": "4dd0a044",
   "metadata": {},
   "outputs": [],
   "source": [
    "# we are not allow to reorder the axis or index to check the compatability on matricy multiplications"
   ]
  },
  {
   "cell_type": "code",
   "execution_count": 11,
   "id": "a4bc6e54",
   "metadata": {},
   "outputs": [],
   "source": [
    "# example1.sahpe == (1,2,3,4,7,1,8)\n",
    "#example2.shape==(4,1,1,8)\n",
    "#still compitable \n",
    "#how when we do example2.sahpe == (1,1,1,4,1,7,8) # after we pre append 1\n",
    "# the out come will be (1,2,3,4,7,7,8)"
   ]
  },
  {
   "cell_type": "code",
   "execution_count": 19,
   "id": "750ea2bd",
   "metadata": {
    "scrolled": true
   },
   "outputs": [
    {
     "name": "stdout",
     "output_type": "stream",
     "text": [
      "[[[  1  11 102]\n",
      "  [  4  14 105]\n",
      "  [  7  17 108]]\n",
      "\n",
      " [[ 10  20 111]\n",
      "  [ 13  23 114]\n",
      "  [ 16  26 117]]]\n"
     ]
    }
   ],
   "source": [
    "# another example\n",
    "x=np.array(([[[0,1,2],\n",
    "           [3,4,5],\n",
    "           [6,7,8]],\n",
    "             [[9,10,11],\n",
    "             [12,13,14],\n",
    "             [15,16,17]]])) # shape (2,3,3)\n",
    "y=np.array([1,10,100]) # shape(3,)\n",
    "print(x+y)"
   ]
  },
  {
   "cell_type": "code",
   "execution_count": 20,
   "id": "fc3ca1a5",
   "metadata": {},
   "outputs": [],
   "source": [
    "# after add 1 final shape should be (2,3,3)"
   ]
  },
  {
   "cell_type": "code",
   "execution_count": 21,
   "id": "c4c5cd91",
   "metadata": {},
   "outputs": [
    {
     "name": "stdout",
     "output_type": "stream",
     "text": [
      "[[[  1  11 102]\n",
      "  [  4  14 105]\n",
      "  [  7  17 108]]\n",
      "\n",
      " [[ 10  20 111]\n",
      "  [ 13  23 114]\n",
      "  [ 16  26 117]]]\n"
     ]
    }
   ],
   "source": [
    "shappe=(2,3,3)\n",
    "out=np.empty(shappe,dtype=int)\n",
    "N0,N1,N2=shappe\n",
    "for i in range (N0): # From the outter to inner\n",
    "    for j in range(N1):\n",
    "        for k in range(N2):\n",
    "            out[i,j,k]=x[i,j,k]+y[k] # since we put replacement 1 will be (1,1,3)\n",
    "            #hence 3 is k index for the demension\n",
    "print(out)"
   ]
  },
  {
   "cell_type": "code",
   "execution_count": null,
   "id": "fdae355d",
   "metadata": {},
   "outputs": [],
   "source": []
  }
 ],
 "metadata": {
  "kernelspec": {
   "display_name": "Python 3 (ipykernel)",
   "language": "python",
   "name": "python3"
  },
  "language_info": {
   "codemirror_mode": {
    "name": "ipython",
    "version": 3
   },
   "file_extension": ".py",
   "mimetype": "text/x-python",
   "name": "python",
   "nbconvert_exporter": "python",
   "pygments_lexer": "ipython3",
   "version": "3.9.12"
  }
 },
 "nbformat": 4,
 "nbformat_minor": 5
}
