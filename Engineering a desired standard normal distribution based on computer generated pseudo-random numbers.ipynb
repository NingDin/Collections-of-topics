{
 "cells": [
  {
   "cell_type": "code",
   "execution_count": 1,
   "id": "7ba70ba7",
   "metadata": {},
   "outputs": [],
   "source": [
    "import math\n",
    "import numpy as np\n",
    "import numpy.random as npr  \n",
    "from pylab import plt, mpl"
   ]
  },
  {
   "cell_type": "code",
   "execution_count": 7,
   "id": "7b106247",
   "metadata": {},
   "outputs": [],
   "source": [
    "def gen_sn(M, I, anti_paths=True, mo_match=True):\n",
    "    ''' Function to generate random numbers for simulation.\n",
    "    \n",
    "    Parameters\n",
    "    ==========\n",
    "    M: int\n",
    "        number of time intervals for discretization\n",
    "    I: int\n",
    "        number of paths to be simulated\n",
    "    anti_paths: boolean\n",
    "        use of antithetic variates\n",
    "    mo_math: boolean\n",
    "        use of moment matching\n",
    "    '''\n",
    "    if anti_paths is True:\n",
    "        sn = npr.standard_normal((M + 1, int(I / 2)))##############anithetic variates\n",
    "        sn = np.concatenate((sn, -sn), axis=1)\n",
    "    else:\n",
    "        sn = npr.standard_normal((M + 1, I))##############variance reduction to reduce statistic second moment which is varaible\n",
    "    if mo_match is True:\n",
    "        sn = (sn - sn.mean()) / sn.std()\n",
    "    return sn"
   ]
  }
 ],
 "metadata": {
  "kernelspec": {
   "display_name": "Python 3 (ipykernel)",
   "language": "python",
   "name": "python3"
  },
  "language_info": {
   "codemirror_mode": {
    "name": "ipython",
    "version": 3
   },
   "file_extension": ".py",
   "mimetype": "text/x-python",
   "name": "python",
   "nbconvert_exporter": "python",
   "pygments_lexer": "ipython3",
   "version": "3.9.12"
  }
 },
 "nbformat": 4,
 "nbformat_minor": 5
}
